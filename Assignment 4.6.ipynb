{
 "cells": [
  {
   "cell_type": "markdown",
   "metadata": {},
   "source": [
    "## <u>Question :-</u>"
   ]
  },
  {
   "cell_type": "markdown",
   "metadata": {},
   "source": [
    "You take the SAT and score 1100. The mean score for the SAT is 1026 and the standard deviation is 209. How well did you score on the test compared to the average test taker?"
   ]
  },
  {
   "cell_type": "markdown",
   "metadata": {},
   "source": [
    "## <u>Answer :- </u>"
   ]
  },
  {
   "cell_type": "markdown",
   "metadata": {},
   "source": [
    "As each candidate SAT score will be independent to each other. so all the score will be Normally distributed. with <br>\n",
    "$$\\mu = 1026, \\sigma = 209$$\n"
   ]
  },
  {
   "cell_type": "markdown",
   "metadata": {},
   "source": [
    "Converting this Normal distribution to Standard Normal distribution.\n",
    "$$Z = \\frac {(X - \\mu)}{\\sigma}$$\n",
    "    $$ = \\frac{(1100 - 1026)}{209}$$\n",
    "    $$ = 0.354$$"
   ]
  },
  {
   "cell_type": "markdown",
   "metadata": {},
   "source": [
    "$p(0 \\lt Z \\lt 0.354)$<br>\n",
    "    $$= cdf(0.354) - cdf(0)$$\n",
    "    cdf = cumulative distribution function<br>\n",
    "    $$ = 0.6368 - 0.5$$\n",
    "    $$ = 0.1368$$"
   ]
  },
  {
   "cell_type": "markdown",
   "metadata": {},
   "source": [
    "so candidate score is $13.68\\%$ more than the avg test taker."
   ]
  },
  {
   "cell_type": "code",
   "execution_count": null,
   "metadata": {
    "collapsed": true
   },
   "outputs": [],
   "source": []
  }
 ],
 "metadata": {
  "kernelspec": {
   "display_name": "Python 3",
   "language": "python",
   "name": "python3"
  },
  "language_info": {
   "codemirror_mode": {
    "name": "ipython",
    "version": 3
   },
   "file_extension": ".py",
   "mimetype": "text/x-python",
   "name": "python",
   "nbconvert_exporter": "python",
   "pygments_lexer": "ipython3",
   "version": "3.6.3"
  }
 },
 "nbformat": 4,
 "nbformat_minor": 2
}
